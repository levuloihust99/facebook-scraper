{
  "nbformat": 4,
  "nbformat_minor": 0,
  "metadata": {
    "colab": {
      "name": "facebook-scraper.ipynb",
      "provenance": [],
      "collapsed_sections": []
    },
    "kernelspec": {
      "name": "python3",
      "display_name": "Python 3"
    }
  },
  "cells": [
    {
      "cell_type": "code",
      "metadata": {
        "id": "e6m85iH69B-S",
        "colab_type": "code",
        "colab": {
          "base_uri": "https://localhost:8080/",
          "height": 274
        },
        "outputId": "53f152af-3652-4b71-b974-1ca45c048977"
      },
      "source": [
        "!apt-get update "
      ],
      "execution_count": 30,
      "outputs": [
        {
          "output_type": "stream",
          "text": [
            "\r0% [Working]\r            \rIgn:1 https://developer.download.nvidia.com/compute/cuda/repos/ubuntu1804/x86_64  InRelease\n",
            "\r0% [Waiting for headers] [Waiting for headers] [Waiting for headers] [Waiting f\r                                                                               \rHit:2 https://cloud.r-project.org/bin/linux/ubuntu bionic-cran35/ InRelease\n",
            "\r0% [Waiting for headers] [Waiting for headers] [Waiting for headers] [Waiting f\r0% [2 InRelease gpgv 3626 B] [Waiting for headers] [Waiting for headers] [Waiti\r                                                                               \rGet:3 http://security.ubuntu.com/ubuntu bionic-security InRelease [88.7 kB]\n",
            "\r0% [2 InRelease gpgv 3626 B] [Waiting for headers] [3 InRelease 2586 B/88.7 kB \r                                                                               \rHit:4 http://ppa.launchpad.net/graphics-drivers/ppa/ubuntu bionic InRelease\n",
            "\r0% [2 InRelease gpgv 3626 B] [Waiting for headers] [3 InRelease 2586 B/88.7 kB \r                                                                               \rIgn:5 https://developer.download.nvidia.com/compute/machine-learning/repos/ubuntu1804/x86_64  InRelease\n",
            "\r0% [2 InRelease gpgv 3626 B] [Waiting for headers] [3 InRelease 2586 B/88.7 kB \r                                                                               \rHit:6 https://developer.download.nvidia.com/compute/cuda/repos/ubuntu1804/x86_64  Release\n",
            "\r0% [2 InRelease gpgv 3626 B] [Waiting for headers] [3 InRelease 8378 B/88.7 kB \r                                                                               \rHit:7 http://archive.ubuntu.com/ubuntu bionic InRelease\n",
            "\r0% [2 InRelease gpgv 3626 B] [3 InRelease 14.2 kB/88.7 kB 16%] [Waiting for hea\r                                                                               \rHit:8 https://developer.download.nvidia.com/compute/machine-learning/repos/ubuntu1804/x86_64  Release\n",
            "\r0% [2 InRelease gpgv 3626 B] [Waiting for headers] [3 InRelease 14.2 kB/88.7 kB\r                                                                               \rGet:9 http://archive.ubuntu.com/ubuntu bionic-updates InRelease [88.7 kB]\n",
            "Hit:10 http://ppa.launchpad.net/marutter/c2d4u3.5/ubuntu bionic InRelease\n",
            "Get:11 http://archive.ubuntu.com/ubuntu bionic-backports InRelease [74.6 kB]\n",
            "Get:14 http://archive.ubuntu.com/ubuntu bionic-updates/main amd64 Packages [1184 kB]\n",
            "Fetched 1436 kB in 2s (664 kB/s)\n",
            "Reading package lists... Done\n"
          ],
          "name": "stdout"
        }
      ]
    },
    {
      "cell_type": "code",
      "metadata": {
        "id": "5qCg2WG2D-Ye",
        "colab_type": "code",
        "colab": {
          "base_uri": "https://localhost:8080/",
          "height": 109
        },
        "outputId": "17df7cc0-c84e-4ed8-c991-3f654de7095d"
      },
      "source": [
        "!apt install chromium-chromedriver"
      ],
      "execution_count": 31,
      "outputs": [
        {
          "output_type": "stream",
          "text": [
            "Reading package lists... Done\n",
            "Building dependency tree       \n",
            "Reading state information... Done\n",
            "chromium-chromedriver is already the newest version (80.0.3987.163-0ubuntu0.18.04.1).\n",
            "0 upgraded, 0 newly installed, 0 to remove and 91 not upgraded.\n"
          ],
          "name": "stdout"
        }
      ]
    },
    {
      "cell_type": "code",
      "metadata": {
        "id": "_72ORJ_EC6Md",
        "colab_type": "code",
        "colab": {
          "base_uri": "https://localhost:8080/",
          "height": 54
        },
        "outputId": "23518c85-f513-4323-a884-6d9b89b36ff1"
      },
      "source": [
        "!pip install selenium"
      ],
      "execution_count": 32,
      "outputs": [
        {
          "output_type": "stream",
          "text": [
            "Requirement already satisfied: selenium in /usr/local/lib/python3.6/dist-packages (3.141.0)\n",
            "Requirement already satisfied: urllib3 in /usr/local/lib/python3.6/dist-packages (from selenium) (1.24.3)\n"
          ],
          "name": "stdout"
        }
      ]
    },
    {
      "cell_type": "code",
      "metadata": {
        "id": "B2G6NEtBVq0j",
        "colab_type": "code",
        "colab": {
          "base_uri": "https://localhost:8080/",
          "height": 35
        },
        "outputId": "09be9cf1-cc85-4b21-f235-9711d99a3f68"
      },
      "source": [
        "%env LANG=vi_VN.utf8"
      ],
      "execution_count": 33,
      "outputs": [
        {
          "output_type": "stream",
          "text": [
            "env: LANG=vi_VN.utf8\n"
          ],
          "name": "stdout"
        }
      ]
    },
    {
      "cell_type": "code",
      "metadata": {
        "id": "kp8wZH8oRvpS",
        "colab_type": "code",
        "colab": {
          "base_uri": "https://localhost:8080/",
          "height": 35
        },
        "outputId": "325fc3fd-b0d7-4863-8b36-b66197334bbf"
      },
      "source": [
        "cd /content/drive/My\\ Drive/ProjectII/data-crawling"
      ],
      "execution_count": 34,
      "outputs": [
        {
          "output_type": "stream",
          "text": [
            "/content/drive/My Drive/ProjectII/data-crawling\n"
          ],
          "name": "stdout"
        }
      ]
    },
    {
      "cell_type": "code",
      "metadata": {
        "id": "i44CsQZvW2-W",
        "colab_type": "code",
        "colab": {}
      },
      "source": [
        "import numpy as np\n",
        "import pandas as pd\n",
        "import time\n",
        "import json\n",
        "from selenium import webdriver\n",
        "from selenium.webdriver.chrome.options import Options\n",
        "from selenium.webdriver.support.ui import WebDriverWait\n",
        "from selenium.common.exceptions import TimeoutException, NoSuchElementException, StaleElementReferenceException, ElementClickInterceptedException, ElementNotInteractableException\n",
        "from selenium.webdriver.support import expected_conditions as EC\n",
        "from selenium.webdriver.common.by import By\n",
        "from selenium.webdriver.common.action_chains import ActionChains\n",
        "from selenium.webdriver.common.keys import Keys"
      ],
      "execution_count": 0,
      "outputs": []
    },
    {
      "cell_type": "code",
      "metadata": {
        "id": "Oo7U2uMhXMR0",
        "colab_type": "code",
        "colab": {}
      },
      "source": [
        "# instantiate a webdriver\n",
        "options = Options()\n",
        "options.add_argument(\"--disable-notifications\")\n",
        "options.add_argument(\"--disable-infobars\")\n",
        "options.add_argument(\"--mute-audio\")\n",
        "options.add_argument(\"--headless\")\n",
        "options.add_argument(\"--no-sandbox\")\n",
        "options.add_argument(\"--disable-dev-shm-usage\")\n",
        "options.add_argument(\"--lang=vi\")\n",
        "\n",
        "driver = webdriver.Chrome('chromedriver', options=options)\n",
        "driver.maximize_window()"
      ],
      "execution_count": 0,
      "outputs": []
    },
    {
      "cell_type": "code",
      "metadata": {
        "id": "iHwU2M0gXPjV",
        "colab_type": "code",
        "colab": {}
      },
      "source": [
        "url = \"https://www.facebook.com/\"\n",
        "email = \"syncdriver99@gmail.com\"\n",
        "password = \"ads354a68gw464as53f1a6w8a4w6g5awega13w5e\""
      ],
      "execution_count": 0,
      "outputs": []
    },
    {
      "cell_type": "code",
      "metadata": {
        "id": "6peC2hQ9XWA4",
        "colab_type": "code",
        "colab": {}
      },
      "source": [
        "def login(email, password):\n",
        "    global driver\n",
        "    driver.get(url)\n",
        "    \n",
        "    # filling the form\n",
        "    driver.find_element_by_id(\"email\").send_keys(email)\n",
        "    driver.find_element_by_id(\"pass\").send_keys(password)\n",
        "    \n",
        "    # clicking on the login button\n",
        "    try:\n",
        "        driver.find_element_by_id(\"loginbutton\").click()\n",
        "    except NoSuchElementException:\n",
        "        # facebook new design\n",
        "        driver.find_element_by_id(\"login\").click()"
      ],
      "execution_count": 0,
      "outputs": []
    },
    {
      "cell_type": "code",
      "metadata": {
        "id": "z_Vv8rKAXZUq",
        "colab_type": "code",
        "colab": {}
      },
      "source": [
        "login(email, password)"
      ],
      "execution_count": 0,
      "outputs": []
    },
    {
      "cell_type": "code",
      "metadata": {
        "id": "b5sy-NZpXbSM",
        "colab_type": "code",
        "colab": {}
      },
      "source": [
        "# dictionary of user ID\n",
        "data = pd.read_csv(\"users.csv\", dtype=str)\n",
        "ids = data.iloc[:, 0].values\n",
        "check = {}\n",
        "for id in ids:\n",
        "    check[id] = True\n",
        "\n",
        "# urls list\n",
        "urls = data.iloc[:, 2].values"
      ],
      "execution_count": 0,
      "outputs": []
    },
    {
      "cell_type": "code",
      "metadata": {
        "id": "6OiWh9weXdpP",
        "colab_type": "code",
        "colab": {}
      },
      "source": [
        "def appendZero(num):\n",
        "    if num > 1000:\n",
        "        return \"\"\n",
        "    if num < 10:\n",
        "        return \"000{}\".format(num)\n",
        "    elif num < 100:\n",
        "        return \"00{}\".format(num)\n",
        "    elif num < 1000:\n",
        "        return \"0{}\".format(num)\n",
        "    else:\n",
        "        return \"{}\".format(num)"
      ],
      "execution_count": 0,
      "outputs": []
    },
    {
      "cell_type": "code",
      "metadata": {
        "id": "cC-1KBNQXf6Y",
        "colab_type": "code",
        "colab": {}
      },
      "source": [
        "# get 30 posts in timeline\n",
        "def get_timeline(driver):\n",
        "    timeline = driver.find_element_by_xpath(\"//*[contains(@id, 'timeline_story_container')]\")\n",
        "    old_height = driver.execute_script(\"return document.scrollHeight\")\n",
        "    scroll = 0\n",
        "    max_scroll = 50\n",
        "    flag = False\n",
        "    while True:\n",
        "        try:\n",
        "            driver.execute_script(\"window.scrollTo(0, document.body.scrollHeight)\")\n",
        "            WebDriverWait(driver, 15, 0.05).until(\n",
        "                lambda driver: driver.execute_script(\"return document.body.scrollHeight\") != old_height\n",
        "            )\n",
        "            old_height = driver.execute_script(\"return document.body.scrollHeight\")\n",
        "        except TimeoutException:\n",
        "            break\n",
        "        scroll += 1\n",
        "        if timeline.find_elements_by_xpath(\"./div[35]\"):\n",
        "            break\n",
        "        if scroll == 50 or flag:\n",
        "            break\n",
        "    raw_posts = []\n",
        "    container = timeline.find_elements_by_xpath(\"./div[@class='_5pcb _4b0l _2q8l']\")\n",
        "    for item in container:\n",
        "        if item.find_elements_by_xpath(\".//ul[contains(@class, 'uiList uiCollapsedList uiCollapsedListHidden')]\"):\n",
        "            continue\n",
        "        else:\n",
        "            raw_posts.append(item)\n",
        "    return raw_posts[:30]"
      ],
      "execution_count": 0,
      "outputs": []
    },
    {
      "cell_type": "code",
      "metadata": {
        "id": "9IzkwUefXjOi",
        "colab_type": "code",
        "colab": {}
      },
      "source": [
        "def crawl_posts(driver, raw_posts):\n",
        "    posts = []\n",
        "    number = 0\n",
        "    for raw_post in raw_posts:\n",
        "        number += 1\n",
        "        print(\"Post #%d\" % number)\n",
        "        \n",
        "        post = {}\n",
        "\n",
        "        # crawl post timestamp\n",
        "        timestamp = raw_post.find_element_by_xpath(\".//span[@class='timestampContent']\").text\n",
        "        post[\"timestamp\"] = timestamp\n",
        "\n",
        "        # crawl reactions\n",
        "\n",
        "        # open popup window\n",
        "        react_box = raw_post.find_elements_by_xpath(\".//a[@data-testid='UFI2ReactionsCount/root']\")\n",
        "\n",
        "        if react_box:\n",
        "            display = react_box[0]\n",
        "            driver.execute_script(\"arguments[0].scrollIntoView();\", raw_post)\n",
        "            time.sleep(0.5)\n",
        "            try:\n",
        "                display.click()\n",
        "            except ElementClickInterceptedException:\n",
        "                loc = display.location\n",
        "                driver.execute_script(\"window.scrollTo(0, arguments[0]);\", loc[\"y\"] - 200)\n",
        "                display.click()\n",
        "            WebDriverWait(driver, 10).until(\n",
        "                lambda driver: driver.find_elements_by_xpath(\"//div[@class='_4-i2 _50f4']\")\n",
        "            )\n",
        "            popup = driver.find_element_by_xpath(\"//div[@class='_4-i2 _50f4']\")\n",
        "            if popup.find_elements_by_xpath(\".//a[text()='Xem thêm']\"):\n",
        "                count = 0\n",
        "                while True:\n",
        "                    count += 1\n",
        "                    try:\n",
        "                        WebDriverWait(popup, 1, 0.05).until(\n",
        "                            EC.element_to_be_clickable((By.XPATH, \".//a[text()='Xem thêm']\"))\n",
        "                        )\n",
        "                        expand = popup.find_element_by_xpath(\".//a[text()='Xem thêm']\")\n",
        "                        try:\n",
        "                            expand.click()\n",
        "                        except ElementClickInterceptedException:\n",
        "                            driver.execute_script(\"arguments[0].scrollIntoView(false);\", expand)\n",
        "                            expand.click()\n",
        "                    except TimeoutException:\n",
        "                        break\n",
        "                    if count == 50:\n",
        "                        break\n",
        "            reactors = popup.find_elements_by_xpath(\".//li[@class='_5i_q']\")\n",
        "            reacts = []\n",
        "            for reactor in reactors:\n",
        "                contain_ID_element = reactor.find_element_by_xpath(\".//a[@data-gt]\")\n",
        "                data_gt = json.loads(contain_ID_element.get_attribute(\"data-gt\"))\n",
        "                uid = data_gt[\"engagement\"][\"eng_tid\"]\n",
        "                reacts.append(uid)\n",
        "            post[\"reacts\"] = reacts\n",
        "\n",
        "            # close popup window\n",
        "            close = popup.find_element_by_xpath(\"//a[@data-testid='reactions_profile_browser:close' and @title='Đóng']\")\n",
        "            try:\n",
        "                close.click()\n",
        "            except ElementNotInteractableException:\n",
        "                WebDriverWait(close, 10).until(\n",
        "                    EC.element_to_be_clickable((By.XPATH, \".\"))\n",
        "                )\n",
        "                close.click()\n",
        "\n",
        "        # crawl comments\n",
        "\n",
        "        # expand all extensible points\n",
        "        queue = raw_post.find_elements_by_xpath(\".//a[@class='_4sxc _42ft']\")\n",
        "        while True:\n",
        "            if not queue:\n",
        "                break\n",
        "            point = queue.pop(0)\n",
        "            try:\n",
        "                text = driver.execute_script(\"return arguments[0].innerHTML\", point)\n",
        "            except StaleElementReferenceException:\n",
        "                continue\n",
        "            parent = None\n",
        "            if \"bình luận\" not in text:\n",
        "                parent = point.find_element_by_xpath(\"./parent::div/parent::div/parent::li\")\n",
        "\n",
        "            old_height = driver.execute_script(\"return arguments[0].scrollHeight\", raw_post)\n",
        "            driver.execute_script(\"arguments[0].scrollIntoView(false)\", point)\n",
        "            time.sleep(0.5)\n",
        "            try:\n",
        "                point.click()\n",
        "            except StaleElementReferenceException:\n",
        "                ActionChains(driver).send_keys(Keys.ESCAPE).perform()\n",
        "                point.click()\n",
        "            except ElementClickInterceptedException:\n",
        "                loc = point.location\n",
        "                driver.execute_script(\"window.scrollTo(0, arguments[0]);\", loc[\"y\"] - 200)\n",
        "                point.click()\n",
        "            WebDriverWait(raw_post, 10).until(\n",
        "                lambda x: driver.execute_script(\"return arguments[0].scrollHeight\", x) != old_height\n",
        "            )\n",
        "            if parent is not None:\n",
        "                ex_points = parent.find_elements_by_xpath(\".//a[@class='_4sxc _42ft']\")\n",
        "            else:\n",
        "                ex_points = raw_post.find_elements_by_xpath(\".//a[@class='_4sxc _42ft' and contains(text(), 'bình luận')]\")\n",
        "            queue += ex_points\n",
        "\n",
        "        # get uid of commentors\n",
        "        is_visited = {}\n",
        "        cmts = raw_post.find_elements_by_xpath(\".//a[@class='_6qw4']\")\n",
        "        comments = []\n",
        "        for cmt in cmts:\n",
        "            data_hovercard = cmt.get_attribute(\"data-hovercard\")\n",
        "            uid = data_hovercard.split(\"?\")[1].split(\"&\")[0].split(\"=\")[1]\n",
        "            if uid in is_visited:\n",
        "                continue\n",
        "            else:   \n",
        "                is_visited[uid] = True\n",
        "                comments.append(uid)\n",
        "\n",
        "        post[\"comments\"] = comments\n",
        "\n",
        "        # add to posts list\n",
        "        posts.append(post)\n",
        "    \n",
        "    return posts"
      ],
      "execution_count": 0,
      "outputs": []
    },
    {
      "cell_type": "code",
      "metadata": {
        "id": "n79xUTEnXoDP",
        "colab_type": "code",
        "colab": {}
      },
      "source": [
        "prefix = \"https://www.facebook.com\"\n",
        "chunk = {\"start\": 105, \"end\": 200}\n",
        "for order in range(chunk[\"start\"] + 1 , chunk[\"end\"] + 1):\n",
        "    print(\"User #%d\\n==========\" % order)\n",
        "    url = urls[order - 1]\n",
        "    driver.get(prefix + url)\n",
        "    raw_posts = get_timeline(driver)\n",
        "    posts = crawl_posts(driver, raw_posts)\n",
        "    with open(\"posts/{0}_{1}.json\".format(appendZero(order), ids[order - 1]), \"w\") as fp:\n",
        "        json.dump(posts, fp, indent=\"  \", ensure_ascii=False)"
      ],
      "execution_count": 0,
      "outputs": []
    },
    {
      "cell_type": "code",
      "metadata": {
        "id": "EE6Q6oMEZG9n",
        "colab_type": "code",
        "colab": {}
      },
      "source": [
        ""
      ],
      "execution_count": 0,
      "outputs": []
    }
  ]
}